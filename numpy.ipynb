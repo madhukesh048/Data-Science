{
  "nbformat": 4,
  "nbformat_minor": 0,
  "metadata": {
    "colab": {
      "name": "numpy.ipynb",
      "provenance": [],
      "authorship_tag": "ABX9TyO6uFIX+pUXPgIhmtTmSXat",
      "include_colab_link": true
    },
    "kernelspec": {
      "name": "python3",
      "display_name": "Python 3"
    }
  },
  "cells": [
    {
      "cell_type": "markdown",
      "metadata": {
        "id": "view-in-github",
        "colab_type": "text"
      },
      "source": [
        "<a href=\"https://colab.research.google.com/github/madhukesh048/Data-Science/blob/master/numpy.ipynb\" target=\"_parent\"><img src=\"https://colab.research.google.com/assets/colab-badge.svg\" alt=\"Open In Colab\"/></a>"
      ]
    },
    {
      "cell_type": "markdown",
      "metadata": {
        "id": "XGubI2nNiNdO",
        "colab_type": "text"
      },
      "source": [
        "# **Understanding Numpy** \n"
      ]
    },
    {
      "cell_type": "markdown",
      "metadata": {
        "id": "jMTRMULMiyRQ",
        "colab_type": "text"
      },
      "source": [
        "# What is an array?"
      ]
    },
    {
      "cell_type": "code",
      "metadata": {
        "id": "NUje9O_jfdQp",
        "colab_type": "code",
        "colab": {}
      },
      "source": [
        "# Importing numpy as np\n",
        "import numpy as np"
      ],
      "execution_count": 1,
      "outputs": []
    },
    {
      "cell_type": "code",
      "metadata": {
        "id": "le49OLdUhNaj",
        "colab_type": "code",
        "colab": {
          "base_uri": "https://localhost:8080/",
          "height": 34
        },
        "outputId": "04b1cc6e-7bfe-474a-b9f8-e4607aee1fba"
      },
      "source": [
        "# Create an array using list\n",
        "a = np.array([1,2,3,4,5,6])\n",
        "a"
      ],
      "execution_count": 2,
      "outputs": [
        {
          "output_type": "execute_result",
          "data": {
            "text/plain": [
              "array([1, 2, 3, 4, 5, 6])"
            ]
          },
          "metadata": {
            "tags": []
          },
          "execution_count": 2
        }
      ]
    },
    {
      "cell_type": "code",
      "metadata": {
        "id": "5o_TMa-ChbOA",
        "colab_type": "code",
        "colab": {
          "base_uri": "https://localhost:8080/",
          "height": 68
        },
        "outputId": "2d80cee9-1743-4006-9dab-ae3e8831e316"
      },
      "source": [
        "# Create an array using 3D array\n",
        "b = np.array([[1,2,3,4],[5,6,7,8],[9,10,11,12]])\n",
        "b"
      ],
      "execution_count": 3,
      "outputs": [
        {
          "output_type": "execute_result",
          "data": {
            "text/plain": [
              "array([[ 1,  2,  3,  4],\n",
              "       [ 5,  6,  7,  8],\n",
              "       [ 9, 10, 11, 12]])"
            ]
          },
          "metadata": {
            "tags": []
          },
          "execution_count": 3
        }
      ]
    },
    {
      "cell_type": "code",
      "metadata": {
        "id": "DB4S3HUKhrf_",
        "colab_type": "code",
        "colab": {
          "base_uri": "https://localhost:8080/",
          "height": 34
        },
        "outputId": "aaa24947-06d1-4d14-9d07-4d6660ef9901"
      },
      "source": [
        "print(b[0])"
      ],
      "execution_count": 4,
      "outputs": [
        {
          "output_type": "stream",
          "text": [
            "[1 2 3 4]\n"
          ],
          "name": "stdout"
        }
      ]
    },
    {
      "cell_type": "markdown",
      "metadata": {
        "id": "rulSgT_xi1Zt",
        "colab_type": "text"
      },
      "source": [
        "# How to create basic array?"
      ]
    },
    {
      "cell_type": "code",
      "metadata": {
        "id": "UcPgCqYBiFJa",
        "colab_type": "code",
        "colab": {
          "base_uri": "https://localhost:8080/",
          "height": 34
        },
        "outputId": "260fc55c-a09f-4159-80cf-78bd71a429be"
      },
      "source": [
        "# Create an array by passing a list\n",
        "np.array([1,2,3])"
      ],
      "execution_count": 5,
      "outputs": [
        {
          "output_type": "execute_result",
          "data": {
            "text/plain": [
              "array([1, 2, 3])"
            ]
          },
          "metadata": {
            "tags": []
          },
          "execution_count": 5
        }
      ]
    },
    {
      "cell_type": "code",
      "metadata": {
        "id": "2acYCAHejF4v",
        "colab_type": "code",
        "colab": {
          "base_uri": "https://localhost:8080/",
          "height": 34
        },
        "outputId": "114de78b-22c6-4f22-9384-5feffc404ddc"
      },
      "source": [
        "# Create an array filled with 0's\n",
        "np.zeros(2)"
      ],
      "execution_count": 6,
      "outputs": [
        {
          "output_type": "execute_result",
          "data": {
            "text/plain": [
              "array([0., 0.])"
            ]
          },
          "metadata": {
            "tags": []
          },
          "execution_count": 6
        }
      ]
    },
    {
      "cell_type": "code",
      "metadata": {
        "id": "C4_UE9fOjPOl",
        "colab_type": "code",
        "colab": {
          "base_uri": "https://localhost:8080/",
          "height": 34
        },
        "outputId": "9c5a36e4-ad5c-4c2e-89dd-6586d09a97a6"
      },
      "source": [
        "# Create an array filled with 1's\n",
        "np.ones(4)"
      ],
      "execution_count": 7,
      "outputs": [
        {
          "output_type": "execute_result",
          "data": {
            "text/plain": [
              "array([1., 1., 1., 1.])"
            ]
          },
          "metadata": {
            "tags": []
          },
          "execution_count": 7
        }
      ]
    },
    {
      "cell_type": "code",
      "metadata": {
        "id": "Y1V9-Rr7jWEN",
        "colab_type": "code",
        "colab": {
          "base_uri": "https://localhost:8080/",
          "height": 34
        },
        "outputId": "ea5bfe5d-d2d3-4be6-a671-c218ffb79055"
      },
      "source": [
        "# Create an empty array with 2 elements\n",
        "np.empty(3)"
      ],
      "execution_count": 8,
      "outputs": [
        {
          "output_type": "execute_result",
          "data": {
            "text/plain": [
              "array([0.75, 0.75, 0.  ])"
            ]
          },
          "metadata": {
            "tags": []
          },
          "execution_count": 8
        }
      ]
    },
    {
      "cell_type": "code",
      "metadata": {
        "id": "rbH-CJhkk8yh",
        "colab_type": "code",
        "colab": {
          "base_uri": "https://localhost:8080/",
          "height": 34
        },
        "outputId": "2ae99e1b-b4e1-4f8c-86b0-4eaff2c9cbf3"
      },
      "source": [
        "# Create an array with range of elements\n",
        "np.arange(8)"
      ],
      "execution_count": 9,
      "outputs": [
        {
          "output_type": "execute_result",
          "data": {
            "text/plain": [
              "array([0, 1, 2, 3, 4, 5, 6, 7])"
            ]
          },
          "metadata": {
            "tags": []
          },
          "execution_count": 9
        }
      ]
    },
    {
      "cell_type": "code",
      "metadata": {
        "id": "uUmL5dP4lQ5T",
        "colab_type": "code",
        "colab": {
          "base_uri": "https://localhost:8080/",
          "height": 34
        },
        "outputId": "5b3b5d32-0ff3-4728-ae63-5980c940c090"
      },
      "source": [
        "# Create an array that contains a range of evenly spaced intervals\n",
        "# np.arange(first_number,last_number,step_size)\n",
        "np.arange(0,10,2)"
      ],
      "execution_count": 10,
      "outputs": [
        {
          "output_type": "execute_result",
          "data": {
            "text/plain": [
              "array([0, 2, 4, 6, 8])"
            ]
          },
          "metadata": {
            "tags": []
          },
          "execution_count": 10
        }
      ]
    },
    {
      "cell_type": "code",
      "metadata": {
        "id": "xaVyrwi4l7Dd",
        "colab_type": "code",
        "colab": {
          "base_uri": "https://localhost:8080/",
          "height": 34
        },
        "outputId": "d7c6ff5f-2835-464c-b513-455b95c3b636"
      },
      "source": [
        "# Create an array with values that are spaced linearly in a specified interval\n",
        "np.linspace(0,10,6)"
      ],
      "execution_count": 11,
      "outputs": [
        {
          "output_type": "execute_result",
          "data": {
            "text/plain": [
              "array([ 0.,  2.,  4.,  6.,  8., 10.])"
            ]
          },
          "metadata": {
            "tags": []
          },
          "execution_count": 11
        }
      ]
    },
    {
      "cell_type": "code",
      "metadata": {
        "id": "tdt0KhoEmnZe",
        "colab_type": "code",
        "colab": {
          "base_uri": "https://localhost:8080/",
          "height": 34
        },
        "outputId": "61ebc6ab-cf85-4bad-cdb4-884cae8feeff"
      },
      "source": [
        "# Specifying data type\n",
        "x = np.ones(4,dtype = np.int64)\n",
        "x"
      ],
      "execution_count": 12,
      "outputs": [
        {
          "output_type": "execute_result",
          "data": {
            "text/plain": [
              "array([1, 1, 1, 1])"
            ]
          },
          "metadata": {
            "tags": []
          },
          "execution_count": 12
        }
      ]
    },
    {
      "cell_type": "markdown",
      "metadata": {
        "id": "eHvN9MK1ngzH",
        "colab_type": "text"
      },
      "source": [
        "# Adding, removing and sorting elements"
      ]
    },
    {
      "cell_type": "code",
      "metadata": {
        "id": "gArmoDsinoU7",
        "colab_type": "code",
        "colab": {
          "base_uri": "https://localhost:8080/",
          "height": 34
        },
        "outputId": "dfdb506a-79cd-46f9-ecac-f681b12ecae0"
      },
      "source": [
        "# Sorting array\n",
        "arr = np.array([2,33,11,45,22,52,18,5,4,86,19])\n",
        "np.sort(arr)"
      ],
      "execution_count": 13,
      "outputs": [
        {
          "output_type": "execute_result",
          "data": {
            "text/plain": [
              "array([ 2,  4,  5, 11, 18, 19, 22, 33, 45, 52, 86])"
            ]
          },
          "metadata": {
            "tags": []
          },
          "execution_count": 13
        }
      ]
    },
    {
      "cell_type": "code",
      "metadata": {
        "id": "2bYhRARSoVgR",
        "colab_type": "code",
        "colab": {
          "base_uri": "https://localhost:8080/",
          "height": 34
        },
        "outputId": "8fd98816-636d-4612-d686-f27d70a3d14f"
      },
      "source": [
        "# Concatenate arrays\n",
        "x = np.array([1,3,6,9])\n",
        "y = np.array([2,4,6,8,])\n",
        "np.concatenate((x,y))"
      ],
      "execution_count": 14,
      "outputs": [
        {
          "output_type": "execute_result",
          "data": {
            "text/plain": [
              "array([1, 3, 6, 9, 2, 4, 6, 8])"
            ]
          },
          "metadata": {
            "tags": []
          },
          "execution_count": 14
        }
      ]
    },
    {
      "cell_type": "markdown",
      "metadata": {
        "id": "6scRThU3otof",
        "colab_type": "text"
      },
      "source": [
        "# How do you know shape and size of an array?"
      ]
    },
    {
      "cell_type": "code",
      "metadata": {
        "id": "mcfh90PNoxtH",
        "colab_type": "code",
        "colab": {}
      },
      "source": [
        " array_example = np.array([[[0, 1, 2, 3],\n",
        "                            [4, 5, 6, 7]],\n",
        "\n",
        "                           [[0, 1, 2, 3],\n",
        "                            [4, 5, 6, 7]],\n",
        "\n",
        "                           [[0 ,1 ,2, 3],\n",
        "                            [4, 5, 6, 7]]])"
      ],
      "execution_count": 15,
      "outputs": []
    },
    {
      "cell_type": "code",
      "metadata": {
        "id": "1oVYoxZhpc_f",
        "colab_type": "code",
        "colab": {
          "base_uri": "https://localhost:8080/",
          "height": 34
        },
        "outputId": "493c74ea-bebb-4f13-f94e-305c4308b3b9"
      },
      "source": [
        "# To find dimensions of array\n",
        "array_example.ndim"
      ],
      "execution_count": 16,
      "outputs": [
        {
          "output_type": "execute_result",
          "data": {
            "text/plain": [
              "3"
            ]
          },
          "metadata": {
            "tags": []
          },
          "execution_count": 16
        }
      ]
    },
    {
      "cell_type": "code",
      "metadata": {
        "id": "jJsP-0aopkp-",
        "colab_type": "code",
        "colab": {
          "base_uri": "https://localhost:8080/",
          "height": 34
        },
        "outputId": "07652167-898d-459c-fdff-2e7c01af2a3b"
      },
      "source": [
        "# To find total number of elements\n",
        "array_example.size"
      ],
      "execution_count": 17,
      "outputs": [
        {
          "output_type": "execute_result",
          "data": {
            "text/plain": [
              "24"
            ]
          },
          "metadata": {
            "tags": []
          },
          "execution_count": 17
        }
      ]
    },
    {
      "cell_type": "code",
      "metadata": {
        "id": "Lo2IYWHJpsk8",
        "colab_type": "code",
        "colab": {
          "base_uri": "https://localhost:8080/",
          "height": 34
        },
        "outputId": "93f20bb1-c656-4e85-b6f3-8f132ca3d3f1"
      },
      "source": [
        "# To find shape of array\n",
        "array_example.shape"
      ],
      "execution_count": 18,
      "outputs": [
        {
          "output_type": "execute_result",
          "data": {
            "text/plain": [
              "(3, 2, 4)"
            ]
          },
          "metadata": {
            "tags": []
          },
          "execution_count": 18
        }
      ]
    },
    {
      "cell_type": "markdown",
      "metadata": {
        "id": "HM3t62_Yp5Uq",
        "colab_type": "text"
      },
      "source": [
        "# Can you reshape an array?"
      ]
    },
    {
      "cell_type": "code",
      "metadata": {
        "id": "_83nBZxhqAK_",
        "colab_type": "code",
        "colab": {
          "base_uri": "https://localhost:8080/",
          "height": 34
        },
        "outputId": "54e48524-9a6b-4bee-c200-fb21f44c819c"
      },
      "source": [
        "a = np.arange(6)\n",
        "print(a)"
      ],
      "execution_count": 19,
      "outputs": [
        {
          "output_type": "stream",
          "text": [
            "[0 1 2 3 4 5]\n"
          ],
          "name": "stdout"
        }
      ]
    },
    {
      "cell_type": "code",
      "metadata": {
        "id": "a1O1ganUqNY0",
        "colab_type": "code",
        "colab": {
          "base_uri": "https://localhost:8080/",
          "height": 68
        },
        "outputId": "7a447ccc-3061-4762-d66d-79e546a09da2"
      },
      "source": [
        "b = a.reshape(3,2)\n",
        "print(b)"
      ],
      "execution_count": 20,
      "outputs": [
        {
          "output_type": "stream",
          "text": [
            "[[0 1]\n",
            " [2 3]\n",
            " [4 5]]\n"
          ],
          "name": "stdout"
        }
      ]
    },
    {
      "cell_type": "code",
      "metadata": {
        "id": "jvFRnFE0kyei",
        "colab_type": "code",
        "colab": {
          "base_uri": "https://localhost:8080/",
          "height": 68
        },
        "outputId": "e88d3f4d-e201-496a-c3ed-0c869fd42928"
      },
      "source": [
        "np.reshape(a, newshape=(3,2),order='C')"
      ],
      "execution_count": 21,
      "outputs": [
        {
          "output_type": "execute_result",
          "data": {
            "text/plain": [
              "array([[0, 1],\n",
              "       [2, 3],\n",
              "       [4, 5]])"
            ]
          },
          "metadata": {
            "tags": []
          },
          "execution_count": 21
        }
      ]
    },
    {
      "cell_type": "markdown",
      "metadata": {
        "id": "MaIib__ek_31",
        "colab_type": "text"
      },
      "source": [
        "# Convert 1D to 2D array"
      ]
    },
    {
      "cell_type": "code",
      "metadata": {
        "id": "oomq_3UblGoE",
        "colab_type": "code",
        "colab": {
          "base_uri": "https://localhost:8080/",
          "height": 34
        },
        "outputId": "bd4c0438-6012-42b0-aa5a-05c2ad1ffb3d"
      },
      "source": [
        "a = np.array([1,2,3,4,5,6])\n",
        "a.shape"
      ],
      "execution_count": 22,
      "outputs": [
        {
          "output_type": "execute_result",
          "data": {
            "text/plain": [
              "(6,)"
            ]
          },
          "metadata": {
            "tags": []
          },
          "execution_count": 22
        }
      ]
    },
    {
      "cell_type": "code",
      "metadata": {
        "id": "JzLSlBA9lcPR",
        "colab_type": "code",
        "colab": {
          "base_uri": "https://localhost:8080/",
          "height": 34
        },
        "outputId": "371f1d50-b46b-4209-8504-01d9d86d4d43"
      },
      "source": [
        "# np.newaxis adds new axis\n",
        "a2 = a[np.newaxis,:]\n",
        "a2.shape"
      ],
      "execution_count": 23,
      "outputs": [
        {
          "output_type": "execute_result",
          "data": {
            "text/plain": [
              "(1, 6)"
            ]
          },
          "metadata": {
            "tags": []
          },
          "execution_count": 23
        }
      ]
    },
    {
      "cell_type": "code",
      "metadata": {
        "id": "wrIRndHNluyu",
        "colab_type": "code",
        "colab": {
          "base_uri": "https://localhost:8080/",
          "height": 34
        },
        "outputId": "0564697d-f1ed-4121-86ba-c41fe4914079"
      },
      "source": [
        "# converting 1D to 2D by adding row vector\n",
        "row_vector = a[np.newaxis,:]\n",
        "row_vector.shape"
      ],
      "execution_count": 24,
      "outputs": [
        {
          "output_type": "execute_result",
          "data": {
            "text/plain": [
              "(1, 6)"
            ]
          },
          "metadata": {
            "tags": []
          },
          "execution_count": 24
        }
      ]
    },
    {
      "cell_type": "code",
      "metadata": {
        "id": "dAhsWXhAl4AV",
        "colab_type": "code",
        "colab": {
          "base_uri": "https://localhost:8080/",
          "height": 34
        },
        "outputId": "f0253f3b-14a1-479e-c39c-d659b17a5acd"
      },
      "source": [
        "# converting 1D to 2D by adding column vector\n",
        "col_vector = a[:,np.newaxis]\n",
        "col_vector.shape"
      ],
      "execution_count": 25,
      "outputs": [
        {
          "output_type": "execute_result",
          "data": {
            "text/plain": [
              "(6, 1)"
            ]
          },
          "metadata": {
            "tags": []
          },
          "execution_count": 25
        }
      ]
    },
    {
      "cell_type": "code",
      "metadata": {
        "id": "1FSoze7fvWQ4",
        "colab_type": "code",
        "colab": {
          "base_uri": "https://localhost:8080/",
          "height": 34
        },
        "outputId": "ed82b93b-d653-4c9a-a2ff-20d9153fc69c"
      },
      "source": [
        "# np.expand_dims adds new axis at any given index\n",
        "b = np.expand_dims(a, axis = 1)\n",
        "b.shape"
      ],
      "execution_count": 26,
      "outputs": [
        {
          "output_type": "execute_result",
          "data": {
            "text/plain": [
              "(6, 1)"
            ]
          },
          "metadata": {
            "tags": []
          },
          "execution_count": 26
        }
      ]
    },
    {
      "cell_type": "code",
      "metadata": {
        "id": "1ylIFAs3vvsv",
        "colab_type": "code",
        "colab": {
          "base_uri": "https://localhost:8080/",
          "height": 34
        },
        "outputId": "8b25e32d-4b2e-437a-d925-480222f5c5cd"
      },
      "source": [
        "c = np.expand_dims(a, axis= 0)\n",
        "c.shape"
      ],
      "execution_count": 27,
      "outputs": [
        {
          "output_type": "execute_result",
          "data": {
            "text/plain": [
              "(1, 6)"
            ]
          },
          "metadata": {
            "tags": []
          },
          "execution_count": 27
        }
      ]
    },
    {
      "cell_type": "markdown",
      "metadata": {
        "id": "5Cjvr6Fiv6P7",
        "colab_type": "text"
      },
      "source": [
        "# Index and slicing"
      ]
    },
    {
      "cell_type": "code",
      "metadata": {
        "id": "5nkHvODCv9Sc",
        "colab_type": "code",
        "colab": {
          "base_uri": "https://localhost:8080/",
          "height": 34
        },
        "outputId": "460b2a05-face-4832-c48d-cad5a765bf81"
      },
      "source": [
        "data = np.array([1,2,3,4])\n",
        "data[1]"
      ],
      "execution_count": 29,
      "outputs": [
        {
          "output_type": "execute_result",
          "data": {
            "text/plain": [
              "2"
            ]
          },
          "metadata": {
            "tags": []
          },
          "execution_count": 29
        }
      ]
    },
    {
      "cell_type": "code",
      "metadata": {
        "id": "N21slCs3wYT0",
        "colab_type": "code",
        "colab": {
          "base_uri": "https://localhost:8080/",
          "height": 34
        },
        "outputId": "10ab183c-fa07-4986-e0bf-9645a4abedd8"
      },
      "source": [
        "data[0:2]"
      ],
      "execution_count": 30,
      "outputs": [
        {
          "output_type": "execute_result",
          "data": {
            "text/plain": [
              "array([1, 2])"
            ]
          },
          "metadata": {
            "tags": []
          },
          "execution_count": 30
        }
      ]
    },
    {
      "cell_type": "code",
      "metadata": {
        "id": "i4-7r1wywcwH",
        "colab_type": "code",
        "colab": {
          "base_uri": "https://localhost:8080/",
          "height": 34
        },
        "outputId": "0394992d-4b96-4a02-d9aa-7264d5843a0f"
      },
      "source": [
        "data[1:]"
      ],
      "execution_count": 31,
      "outputs": [
        {
          "output_type": "execute_result",
          "data": {
            "text/plain": [
              "array([2, 3, 4])"
            ]
          },
          "metadata": {
            "tags": []
          },
          "execution_count": 31
        }
      ]
    },
    {
      "cell_type": "code",
      "metadata": {
        "id": "Ef9hJUSTwgUu",
        "colab_type": "code",
        "colab": {
          "base_uri": "https://localhost:8080/",
          "height": 34
        },
        "outputId": "cc946ede-4d7f-417a-b20d-7adb38a7c8e9"
      },
      "source": [
        "data[-2:]"
      ],
      "execution_count": 33,
      "outputs": [
        {
          "output_type": "execute_result",
          "data": {
            "text/plain": [
              "array([3, 4])"
            ]
          },
          "metadata": {
            "tags": []
          },
          "execution_count": 33
        }
      ]
    },
    {
      "cell_type": "code",
      "metadata": {
        "id": "Yj5bTWNDzxT7",
        "colab_type": "code",
        "colab": {
          "base_uri": "https://localhost:8080/",
          "height": 34
        },
        "outputId": "edc28523-e46e-49ba-d7e0-d26eab52f36e"
      },
      "source": [
        "a = np.array([[1,2,3,4],[5,6,7,8,],[8,7,3,2],[3,4,5,9]])\n",
        "# printing values less than 4\n",
        "print(a[a < 4])"
      ],
      "execution_count": 37,
      "outputs": [
        {
          "output_type": "stream",
          "text": [
            "[1 2 3 3 2 3]\n"
          ],
          "name": "stdout"
        }
      ]
    },
    {
      "cell_type": "code",
      "metadata": {
        "id": "o9My2AYX0RtX",
        "colab_type": "code",
        "colab": {
          "base_uri": "https://localhost:8080/",
          "height": 34
        },
        "outputId": "ff2c567c-3c2a-4a19-b0ab-9e5e231f17ec"
      },
      "source": [
        "# printing values equal to or greater than 5\n",
        "five_up = a[a >= 5]\n",
        "print(five_up)"
      ],
      "execution_count": 38,
      "outputs": [
        {
          "output_type": "stream",
          "text": [
            "[5 6 7 8 8 7 5 9]\n"
          ],
          "name": "stdout"
        }
      ]
    },
    {
      "cell_type": "code",
      "metadata": {
        "id": "7jm5ksLZ0iww",
        "colab_type": "code",
        "colab": {
          "base_uri": "https://localhost:8080/",
          "height": 34
        },
        "outputId": "02be5f62-9152-4795-a056-91166dc46757"
      },
      "source": [
        "# printing values divisible by 2\n",
        "divisible_by2 = a[a%2 == 0]\n",
        "print(divisible_by2)"
      ],
      "execution_count": 39,
      "outputs": [
        {
          "output_type": "stream",
          "text": [
            "[2 4 6 8 8 2 4]\n"
          ],
          "name": "stdout"
        }
      ]
    },
    {
      "cell_type": "code",
      "metadata": {
        "id": "dogGq94001l_",
        "colab_type": "code",
        "colab": {
          "base_uri": "https://localhost:8080/",
          "height": 34
        },
        "outputId": "5d2a5504-4106-4787-abb2-2560f9e725fe"
      },
      "source": [
        "# printing values satisfying two different conditions using & and | operator\n",
        "c = a[(a > 2) & (a < 8)]\n",
        "print(c)"
      ],
      "execution_count": 40,
      "outputs": [
        {
          "output_type": "stream",
          "text": [
            "[3 4 5 6 7 7 3 3 4 5]\n"
          ],
          "name": "stdout"
        }
      ]
    },
    {
      "cell_type": "code",
      "metadata": {
        "id": "XhvFzB271iWk",
        "colab_type": "code",
        "colab": {
          "base_uri": "https://localhost:8080/",
          "height": 85
        },
        "outputId": "8ec90792-d7e2-4a7f-8de8-7e9e5a72629d"
      },
      "source": [
        "# returning boolean values on condtions \n",
        "d = (a > 5)\n",
        "print(d)"
      ],
      "execution_count": 41,
      "outputs": [
        {
          "output_type": "stream",
          "text": [
            "[[False False False False]\n",
            " [False  True  True  True]\n",
            " [ True  True False False]\n",
            " [False False False  True]]\n"
          ],
          "name": "stdout"
        }
      ]
    },
    {
      "cell_type": "code",
      "metadata": {
        "id": "nlVgm7uB3w61",
        "colab_type": "code",
        "colab": {
          "base_uri": "https://localhost:8080/",
          "height": 85
        },
        "outputId": "e568b7a3-e770-4503-830a-554f0fb4cc76"
      },
      "source": [
        "# creating list of coordinates using zip\n",
        "list_of_coordinates = list(zip(a[0],a[1]))\n",
        "for coord in list_of_coordinates:\n",
        "  print(coord)"
      ],
      "execution_count": 43,
      "outputs": [
        {
          "output_type": "stream",
          "text": [
            "(1, 5)\n",
            "(2, 6)\n",
            "(3, 7)\n",
            "(4, 8)\n"
          ],
          "name": "stdout"
        }
      ]
    },
    {
      "cell_type": "markdown",
      "metadata": {
        "id": "5t0z0AD24PMy",
        "colab_type": "text"
      },
      "source": [
        "# Creating an array from existing data"
      ]
    },
    {
      "cell_type": "code",
      "metadata": {
        "id": "1f8QkQ9s4Xhg",
        "colab_type": "code",
        "colab": {}
      },
      "source": [
        "a = np.array([1,2,3,4,5,6,7,8,9,10])"
      ],
      "execution_count": 45,
      "outputs": []
    },
    {
      "cell_type": "code",
      "metadata": {
        "id": "uKnxXLXJ4lRE",
        "colab_type": "code",
        "colab": {
          "base_uri": "https://localhost:8080/",
          "height": 34
        },
        "outputId": "77af3051-ce78-4cb8-b8b7-d2c83e8639b2"
      },
      "source": [
        "# creating new array from section of array\n",
        "array1 = a[3:6]\n",
        "array1"
      ],
      "execution_count": 47,
      "outputs": [
        {
          "output_type": "execute_result",
          "data": {
            "text/plain": [
              "array([4, 5, 6])"
            ]
          },
          "metadata": {
            "tags": []
          },
          "execution_count": 47
        }
      ]
    },
    {
      "cell_type": "code",
      "metadata": {
        "id": "WQu2DJpJ41iI",
        "colab_type": "code",
        "colab": {}
      },
      "source": [
        "a1 = np.array([[1,2],\n",
        "               [3,4]])\n",
        "a2 = np.array([[5,6],\n",
        "               [7,8]])"
      ],
      "execution_count": 48,
      "outputs": []
    },
    {
      "cell_type": "code",
      "metadata": {
        "id": "I5KMRt9D5GRF",
        "colab_type": "code",
        "colab": {
          "base_uri": "https://localhost:8080/",
          "height": 85
        },
        "outputId": "640925e3-1fde-4d0b-fdf8-cc372c80ddf1"
      },
      "source": [
        "# stack them vertically using np.vstack\n",
        "np.vstack((a1,a2)) "
      ],
      "execution_count": 49,
      "outputs": [
        {
          "output_type": "execute_result",
          "data": {
            "text/plain": [
              "array([[1, 2],\n",
              "       [3, 4],\n",
              "       [5, 6],\n",
              "       [7, 8]])"
            ]
          },
          "metadata": {
            "tags": []
          },
          "execution_count": 49
        }
      ]
    },
    {
      "cell_type": "code",
      "metadata": {
        "id": "0UuDp1OB5Q4r",
        "colab_type": "code",
        "colab": {
          "base_uri": "https://localhost:8080/",
          "height": 51
        },
        "outputId": "d19779fa-5183-4c8f-b10c-d5b1fb2f5d3d"
      },
      "source": [
        "# stack them horzionatlly using np.hstack\n",
        "np.hstack((a1,a2))"
      ],
      "execution_count": 50,
      "outputs": [
        {
          "output_type": "execute_result",
          "data": {
            "text/plain": [
              "array([[1, 2, 5, 6],\n",
              "       [3, 4, 7, 8]])"
            ]
          },
          "metadata": {
            "tags": []
          },
          "execution_count": 50
        }
      ]
    },
    {
      "cell_type": "code",
      "metadata": {
        "id": "hYrkmXJ95qdk",
        "colab_type": "code",
        "colab": {}
      },
      "source": [
        ""
      ],
      "execution_count": null,
      "outputs": []
    }
  ]
}